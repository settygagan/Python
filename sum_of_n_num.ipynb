{
  "nbformat": 4,
  "nbformat_minor": 0,
  "metadata": {
    "colab": {
      "provenance": []
    },
    "kernelspec": {
      "name": "python3",
      "display_name": "Python 3"
    },
    "language_info": {
      "name": "python"
    }
  },
  "cells": [
    {
      "cell_type": "code",
      "execution_count": null,
      "metadata": {
        "colab": {
          "base_uri": "https://localhost:8080/"
        },
        "id": "P4A_YhrSL4ix",
        "outputId": "746f2b6b-a66e-4cb5-ea65-82a5e5a478c6"
      },
      "outputs": [
        {
          "output_type": "stream",
          "name": "stdout",
          "text": [
            "1 1 1 \n",
            "2 2 2 \n",
            "loop break\n"
          ]
        }
      ],
      "source": [
        "for i in range(1,6):\n",
        "\n",
        "    if(i==3):\n",
        "\n",
        "        print(\"loop break\")\n",
        "        break\n",
        "    for j in range(1,4):\n",
        "      print(i,end=\" \")\n",
        "    print()"
      ]
    },
    {
      "cell_type": "code",
      "source": [
        "student_type = input(\"Enter student type (MSDS/MSH/MGSDS/MGSH): \")\n",
        "tuition_fee = float(input(\"Enter tuition fee: \"))\n",
        "bus_fee = float(input(\"Enter bus fee: \"))\n",
        "hostel_fee = float(input(\"Enter hostel fee: \"))\n",
        "\n",
        "if student_type == \"MSDS\":\n",
        "    total_fee = tuition_fee + bus_fee\n",
        "elif student_type == \"MSH\":\n",
        "    total_fee = tuition_fee + hostel_fee\n",
        "elif student_type == \"MGSDS\":\n",
        "    total_fee = 1.5 * tuition_fee + bus_fee\n",
        "elif student_type == \"MGSH\":\n",
        "    total_fee = 1.5 * tuition_fee + hostel_fee\n",
        "else:\n",
        "    total_fee = 0\n",
        "    print(\"Invalid student type\")\n",
        "\n",
        "if total_fee > 0:\n",
        "    print(f\"Total fee to be collected: {total_fee:.2f}\")"
      ],
      "metadata": {
        "colab": {
          "base_uri": "https://localhost:8080/"
        },
        "id": "937cXyOdL5kO",
        "outputId": "214128e4-617f-4a47-9567-13d9b7941f4f"
      },
      "execution_count": null,
      "outputs": [
        {
          "output_type": "stream",
          "name": "stdout",
          "text": [
            "Enter student type (MSDS/MSH/MGSDS/MGSH): MSH\n",
            "Enter tuition fee: 40000\n",
            "Enter bus fee: 12000\n",
            "Enter hostel fee: 50000\n",
            "Total fee to be collected: 90000.00\n"
          ]
        }
      ]
    },
    {
      "cell_type": "code",
      "source": [
        "door = input(\"Enter door (front/rear): \").lower()\n",
        "rail = int(input(\"Enter rail (1/2): \"))\n",
        "\n",
        "if (door == \"front\" and rail == 1) or (door == \"rear\" and rail == 2):\n",
        "    print(\"Left Handed\")\n",
        "else:\n",
        "    print(\"Right Handed\")"
      ],
      "metadata": {
        "colab": {
          "base_uri": "https://localhost:8080/"
        },
        "id": "WJt5pdFgSnKM",
        "outputId": "5fdc1d50-9fd2-4c41-d046-1441f769e742"
      },
      "execution_count": null,
      "outputs": [
        {
          "output_type": "stream",
          "name": "stdout",
          "text": [
            "Enter door (front/rear): Front\n",
            "Enter rail (1/2): 1\n",
            "Left Handed\n"
          ]
        }
      ]
    },
    {
      "cell_type": "code",
      "source": [
        "for i in range(5):\n",
        "  if i ==3:\n",
        "    break\n",
        "  print(i)"
      ],
      "metadata": {
        "id": "yDGPjHxCUnna",
        "colab": {
          "base_uri": "https://localhost:8080/"
        },
        "outputId": "103dcc78-f333-4f96-830c-f4294df1c88b"
      },
      "execution_count": null,
      "outputs": [
        {
          "output_type": "stream",
          "name": "stdout",
          "text": [
            "0\n",
            "1\n",
            "2\n"
          ]
        }
      ]
    },
    {
      "cell_type": "code",
      "source": [
        "for i in range(5):\n",
        "  if i ==2:\n",
        "    continue\n",
        "  print(i)"
      ],
      "metadata": {
        "colab": {
          "base_uri": "https://localhost:8080/"
        },
        "id": "IlUzqp6RsrGv",
        "outputId": "6bb48999-d592-4bb5-b03c-2848047ce1e4"
      },
      "execution_count": null,
      "outputs": [
        {
          "output_type": "stream",
          "name": "stdout",
          "text": [
            "0\n",
            "1\n",
            "3\n",
            "4\n"
          ]
        }
      ]
    },
    {
      "cell_type": "code",
      "source": [
        "for i in range(5):\n",
        "  if i ==2:\n",
        "    pass\n",
        "  print(i)"
      ],
      "metadata": {
        "colab": {
          "base_uri": "https://localhost:8080/"
        },
        "id": "ZnXzwcQrtNwo",
        "outputId": "fd6fa357-edf2-4994-8e53-4ebe3ed2f847"
      },
      "execution_count": null,
      "outputs": [
        {
          "output_type": "stream",
          "name": "stdout",
          "text": [
            "0\n",
            "1\n",
            "2\n",
            "3\n",
            "4\n"
          ]
        }
      ]
    },
    {
      "cell_type": "code",
      "source": [
        "name=input(\"Enter name :\")\n",
        "handle=open(name)\n",
        "counts=dict()\n",
        "for line in handle:\n",
        "  words=line.split()\n",
        "  for word in words:\n",
        "    counts[word]=counts.get(word,0)+1\n",
        "bigcount=None\n",
        "bigword=None\n",
        "for word,count in counts.items():\n",
        "  if bigcount is None or count>bigcount:\n",
        "    bigword=word\n",
        "    bigcount=count\n",
        "print(bigword,bigcount)\n"
      ],
      "metadata": {
        "id": "zSgfy0nAta2J",
        "colab": {
          "base_uri": "https://localhost:8080/",
          "height": 224
        },
        "outputId": "6eb1fd93-2172-4370-a4c3-fd86579dbf85"
      },
      "execution_count": null,
      "outputs": [
        {
          "name": "stdout",
          "output_type": "stream",
          "text": [
            "Enter name :Front-end\n"
          ]
        },
        {
          "output_type": "error",
          "ename": "FileNotFoundError",
          "evalue": "[Errno 2] No such file or directory: 'Front-end'",
          "traceback": [
            "\u001b[0;31m---------------------------------------------------------------------------\u001b[0m",
            "\u001b[0;31mFileNotFoundError\u001b[0m                         Traceback (most recent call last)",
            "\u001b[0;32m<ipython-input-4-18c86df4ffac>\u001b[0m in \u001b[0;36m<cell line: 2>\u001b[0;34m()\u001b[0m\n\u001b[1;32m      1\u001b[0m \u001b[0mname\u001b[0m\u001b[0;34m=\u001b[0m\u001b[0minput\u001b[0m\u001b[0;34m(\u001b[0m\u001b[0;34m\"Enter name :\"\u001b[0m\u001b[0;34m)\u001b[0m\u001b[0;34m\u001b[0m\u001b[0;34m\u001b[0m\u001b[0m\n\u001b[0;32m----> 2\u001b[0;31m \u001b[0mhandle\u001b[0m\u001b[0;34m=\u001b[0m\u001b[0mopen\u001b[0m\u001b[0;34m(\u001b[0m\u001b[0mname\u001b[0m\u001b[0;34m)\u001b[0m\u001b[0;34m\u001b[0m\u001b[0;34m\u001b[0m\u001b[0m\n\u001b[0m\u001b[1;32m      3\u001b[0m \u001b[0mcounts\u001b[0m\u001b[0;34m=\u001b[0m\u001b[0mdict\u001b[0m\u001b[0;34m(\u001b[0m\u001b[0;34m)\u001b[0m\u001b[0;34m\u001b[0m\u001b[0;34m\u001b[0m\u001b[0m\n\u001b[1;32m      4\u001b[0m \u001b[0;32mfor\u001b[0m \u001b[0mline\u001b[0m \u001b[0;32min\u001b[0m \u001b[0mhandle\u001b[0m\u001b[0;34m:\u001b[0m\u001b[0;34m\u001b[0m\u001b[0;34m\u001b[0m\u001b[0m\n\u001b[1;32m      5\u001b[0m   \u001b[0mwords\u001b[0m\u001b[0;34m=\u001b[0m\u001b[0mline\u001b[0m\u001b[0;34m.\u001b[0m\u001b[0msplit\u001b[0m\u001b[0;34m(\u001b[0m\u001b[0;34m)\u001b[0m\u001b[0;34m\u001b[0m\u001b[0;34m\u001b[0m\u001b[0m\n",
            "\u001b[0;31mFileNotFoundError\u001b[0m: [Errno 2] No such file or directory: 'Front-end'"
          ]
        }
      ]
    },
    {
      "cell_type": "code",
      "source": [
        "write a programme sum of n given numbers.\n",
        "\n",
        "n=5\n",
        "sum=1+2+3+4+5"
      ],
      "metadata": {
        "id": "SnLCrcsh4Ljp",
        "colab": {
          "base_uri": "https://localhost:8080/",
          "height": 105
        },
        "outputId": "e38b98a8-53f3-4b7d-9ffb-bdb3c67421f9"
      },
      "execution_count": 1,
      "outputs": [
        {
          "output_type": "error",
          "ename": "SyntaxError",
          "evalue": "invalid syntax (<ipython-input-1-e1d8e222cbec>, line 1)",
          "traceback": [
            "\u001b[0;36m  File \u001b[0;32m\"<ipython-input-1-e1d8e222cbec>\"\u001b[0;36m, line \u001b[0;32m1\u001b[0m\n\u001b[0;31m    write a programme sum of n given numbers.\u001b[0m\n\u001b[0m          ^\u001b[0m\n\u001b[0;31mSyntaxError\u001b[0m\u001b[0;31m:\u001b[0m invalid syntax\n"
          ]
        }
      ]
    },
    {
      "cell_type": "code",
      "source": [
        "n=int(input())\n",
        "for i in range(5):\n",
        "  print(i)"
      ],
      "metadata": {
        "colab": {
          "base_uri": "https://localhost:8080/"
        },
        "id": "U96w_nHux6Y6",
        "outputId": "94c094bd-5ab3-4fd3-9711-27b5caeddf5d"
      },
      "execution_count": 6,
      "outputs": [
        {
          "output_type": "stream",
          "name": "stdout",
          "text": [
            "2\n",
            "0\n",
            "1\n",
            "2\n",
            "3\n",
            "4\n"
          ]
        }
      ]
    },
    {
      "cell_type": "code",
      "source": [
        "n=int(input())\n",
        "sum=1\n",
        "for i in range(n+1):\n",
        "  sum+=1"
      ],
      "metadata": {
        "colab": {
          "base_uri": "https://localhost:8080/"
        },
        "id": "JkqNJNqTyMDM",
        "outputId": "9269da34-219b-45f9-a8f3-07f72a9e2baf"
      },
      "execution_count": 8,
      "outputs": [
        {
          "name": "stdout",
          "output_type": "stream",
          "text": [
            "2\n"
          ]
        }
      ]
    },
    {
      "cell_type": "code",
      "source": [
        "n=int(input())\n",
        "sum=0\n",
        "for i in range(1,n+1):\n",
        "  sum+=i"
      ],
      "metadata": {
        "colab": {
          "base_uri": "https://localhost:8080/"
        },
        "id": "ZVib8UC2ysaC",
        "outputId": "4243a5dd-0fa5-467e-a7ab-7bc075e3e222"
      },
      "execution_count": 10,
      "outputs": [
        {
          "name": "stdout",
          "output_type": "stream",
          "text": [
            "1\n"
          ]
        }
      ]
    },
    {
      "cell_type": "code",
      "source": [],
      "metadata": {
        "id": "4Taew82XzqY4"
      },
      "execution_count": null,
      "outputs": []
    }
  ]
}